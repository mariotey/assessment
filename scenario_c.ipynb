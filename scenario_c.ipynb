{
 "cells": [
  {
   "cell_type": "code",
   "execution_count": 58,
   "id": "675d4d48-c7b4-4d32-9c47-7f1b0188b319",
   "metadata": {},
   "outputs": [],
   "source": [
    "import numpy as np\n",
    "import pandas as pd\n",
    "import torch\n",
    "from transformers import BertTokenizer, BertModel\n",
    "from tqdm import tqdm\n",
    "from sklearn.feature_extraction.text import TfidfVectorizer\n",
    "from sklearn.metrics.pairwise import cosine_similarity"
   ]
  },
  {
   "cell_type": "markdown",
   "id": "4f766f82-ef12-4cbc-8ff3-d5e1f3e96066",
   "metadata": {},
   "source": [
    "## Import Data"
   ]
  },
  {
   "cell_type": "code",
   "execution_count": 59,
   "id": "37c96ecc-b4f2-4e12-8241-7bec01a3b303",
   "metadata": {},
   "outputs": [
    {
     "name": "stdout",
     "output_type": "stream",
     "text": [
      "['business', 'entertainment', 'politics', 'sport', 'tech']\n"
     ]
    }
   ],
   "source": [
    "import os\n",
    "\n",
    "# Get the data directory\n",
    "data_dir = os.path.join(os.getcwd(), \"scenario_c_data\")\n",
    "\n",
    "# List all directories in the current directory\n",
    "topics = [d for d in os.listdir(data_dir) \n",
    "                   if os.path.isdir(os.path.join(data_dir, d)) and d != '.ipynb_checkpoints'\n",
    "              ]\n",
    "\n",
    "print(topics)\n"
   ]
  },
  {
   "cell_type": "code",
   "execution_count": 60,
   "id": "79185962-0bef-4f2e-a4ca-01fd0c85a911",
   "metadata": {},
   "outputs": [],
   "source": [
    "# Create a dictionary mapping each topic to its subdirectories\n",
    "text_dir_dict = {\n",
    "    topic: [d for d in os.listdir(os.path.join(data_dir, topic))]\n",
    "    for topic in topics\n",
    "}"
   ]
  },
  {
   "cell_type": "code",
   "execution_count": 61,
   "id": "9d75e29c-ee64-4630-a19d-f85b2ffc2c2a",
   "metadata": {},
   "outputs": [
    {
     "name": "stdout",
     "output_type": "stream",
     "text": [
      "business: 510\n",
      "entertainment: 386\n",
      "politics: 417\n",
      "sport: 511\n",
      "tech: 401\n"
     ]
    }
   ],
   "source": [
    "text_dict = {}\n",
    "\n",
    "for topic in topics:\n",
    "    # Initialize a dictionary to store file contents for each topic\n",
    "    text_dict[topic] = []\n",
    "    \n",
    "    for filename in text_dir_dict[topic]:\n",
    "        # Construct the full file path using os.path.join\n",
    "        file_path = os.path.join(data_dir, topic, filename)\n",
    "        \n",
    "        # Check if it's a directory (e.g., '.ipynb_checkpoints') and skip it\n",
    "        if os.path.isdir(file_path):\n",
    "            continue\n",
    "            \n",
    "        # Open the file and read its content as a string\n",
    "        with open(file_path, 'r', encoding='utf-8') as file:\n",
    "            content = file.read()\n",
    "            \n",
    "        text_dict[topic].append(content)\n",
    "        \n",
    "for topic in text_dict:\n",
    "    print(f\"{topic}: {len(text_dict[topic])}\")\n",
    "        "
   ]
  },
  {
   "cell_type": "markdown",
   "id": "1e429297-c670-496f-9e20-16032279fbd0",
   "metadata": {},
   "source": [
    "## Preprocessing"
   ]
  },
  {
   "cell_type": "code",
   "execution_count": 62,
   "id": "1ccfea34-0bdf-4a08-893f-2a2222a119a2",
   "metadata": {},
   "outputs": [],
   "source": [
    "# Preprocessing function to clean text\n",
    "def preprocess_text(text):\n",
    "    # Convert to lowercase and remove any unnecessary characters (basic cleaning)\n",
    "    return text.lower().replace(\"\\n\", \" \").strip()\n",
    "\n",
    "# Preprocess the articles in text_dict\n",
    "for topic in text_dict:\n",
    "    text_dict[topic] = [preprocess_text(article) for article in text_dict[topic]]\n",
    "    \n",
    "# Create a flat list of all articles across topics\n",
    "all_articles = []\n",
    "article_labels = []\n",
    "\n",
    "for topic in text_dict:\n",
    "    for article in text_dict[topic]:\n",
    "        all_articles.append(article)\n",
    "        article_labels.append(topic)  # Keep track of which topic each article belongs to\n",
    "\n",
    "unique_articles = []\n",
    "unique_labels = []\n",
    "seen_articles = set()\n",
    "\n",
    "for article, label in zip(all_articles, article_labels):\n",
    "    if article not in seen_articles:  # Check if the article is a duplicate\n",
    "        unique_articles.append(article)\n",
    "        unique_labels.append(label)\n",
    "        seen_articles.add(article)"
   ]
  },
  {
   "cell_type": "markdown",
   "id": "bcd347a3-125d-4cac-bf29-b8973e8ca667",
   "metadata": {},
   "source": [
    "## TF-IDF Vectorizing"
   ]
  },
  {
   "cell_type": "code",
   "execution_count": 63,
   "id": "0e68207f-c553-44b5-8db8-5b3ff416f5ed",
   "metadata": {},
   "outputs": [],
   "source": [
    "tfidf_vectorizer = TfidfVectorizer(stop_words=\"english\")\n",
    "\n",
    "def get_tfidf(text):\n",
    "    return tfidf_vectorizer.transform([preprocess_text(text)])\n",
    "    \n",
    "def search_similar_articles_tfidf(query, tfidf_matrix, unique_articles):\n",
    "    # Tokenize query into tf-idf\n",
    "    query_tfidf = get_tfidf(query)\n",
    "    \n",
    "    # Compute cosine similarity between the query and all articles\n",
    "    similarities = cosine_similarity(query_tfidf, tfidf_matrix).flatten()\n",
    "    \n",
    "    # Get the indices of the top 5 most similar articles\n",
    "    top_indices = np.argsort(similarities)[-5:][::-1]\n",
    "    \n",
    "    # Create a DataFrame to hold the results\n",
    "    results_df = pd.DataFrame({\n",
    "        'Article': np.array(all_articles)[top_indices],\n",
    "        'Similarity Score': similarities[top_indices]\n",
    "    })\n",
    "    \n",
    "    return results_df\n",
    "\n",
    "# Fit and transform all articles to get their TF-IDF matrix\n",
    "tfidf_matrix = tfidf_vectorizer.fit_transform(unique_articles)"
   ]
  },
  {
   "cell_type": "markdown",
   "id": "cdb42efc-1fb5-4d01-9079-59c9a6e3943f",
   "metadata": {},
   "source": [
    "## BERT Embedding"
   ]
  },
  {
   "cell_type": "code",
   "execution_count": 7,
   "id": "bc4e07e2-7918-46cf-bd9d-e1e53b2dd806",
   "metadata": {},
   "outputs": [
    {
     "name": "stderr",
     "output_type": "stream",
     "text": [
      "Encoding articles: 100%|██████████| 2225/2225 [13:24<00:00,  2.77article/s]\n"
     ]
    }
   ],
   "source": [
    "# Load BERT model and tokenizer\n",
    "bert_tokenizer = BertTokenizer.from_pretrained('bert-base-uncased')\n",
    "bert_model = BertModel.from_pretrained('bert-base-uncased')\n",
    "\n",
    "# Function to get BERT embeddings\n",
    "def get_bert_embedding(text):\n",
    "    inputs = bert_tokenizer(text, return_tensors='pt', padding=True, truncation=True, max_length=512)\n",
    "    with torch.no_grad():\n",
    "        outputs = bert_model(**inputs)\n",
    "    return outputs.last_hidden_state.mean(dim=1).squeeze().numpy()\n",
    "\n",
    "# Function to search similar articles using BERT\n",
    "def search_similar_articles_bert(query, article_embeddings, all_articles):\n",
    "    query_embedding = get_bert_embedding(query)\n",
    "    similarities = cosine_similarity([query_embedding], article_embeddings).flatten()\n",
    "    \n",
    "    # Get the indices of the top 5 most similar articles\n",
    "    top_indices = np.argsort(similarities)[-5:][::-1]\n",
    "    \n",
    "    # Create a DataFrame to hold the results\n",
    "    results_df = pd.DataFrame({\n",
    "        'Article': np.array(all_articles)[top_indices],\n",
    "        'Similarity Score': similarities[top_indices]\n",
    "    })\n",
    "    \n",
    "    return results_df\n",
    "    \n",
    "# Encode all articles using BERT with progress tracking\n",
    "article_embeddings = np.array([get_bert_embedding(article) for article in tqdm(all_articles, desc=\"Encoding articles\", unit=\"article\")])\n"
   ]
  },
  {
   "cell_type": "code",
   "execution_count": 14,
   "id": "0c8d9f4d-3b3a-4004-a8ac-3dbe51145d59",
   "metadata": {},
   "outputs": [],
   "source": [
    "# Function to search similar articles using BERT\n",
    "def search_similar_articles_bert(query, article_embeddings, all_articles):\n",
    "    query_embedding = get_bert_embedding(query)\n",
    "    similarities = cosine_similarity([query_embedding], article_embeddings).flatten()\n",
    "    \n",
    "    # Get the indices of the top 5 most similar articles\n",
    "    top_indices = np.argsort(similarities)[-5:][::-1]\n",
    "    \n",
    "    # Create a DataFrame to hold the results\n",
    "    results_df = pd.DataFrame({\n",
    "        'Article': np.array(all_articles)[top_indices],\n",
    "        'Similarity Score': similarities[top_indices]\n",
    "    })\n",
    "    \n",
    "    return results_df"
   ]
  },
  {
   "cell_type": "markdown",
   "id": "057dd407-ffc2-41f9-92e0-aef801f6554a",
   "metadata": {},
   "source": [
    "## \"London meeting of finance ministers and central bankers\""
   ]
  },
  {
   "cell_type": "code",
   "execution_count": 64,
   "id": "7410d0b9-74df-4aa1-a223-cdc33f1e1c0c",
   "metadata": {},
   "outputs": [],
   "source": [
    "# Example search query\n",
    "query = \"London meeting of finance ministers and central bankers\""
   ]
  },
  {
   "cell_type": "code",
   "execution_count": 65,
   "id": "7da703bf-e6ef-416f-8832-7ea7fc353832",
   "metadata": {},
   "outputs": [
    {
     "data": {
      "text/html": [
       "<div>\n",
       "<style scoped>\n",
       "    .dataframe tbody tr th:only-of-type {\n",
       "        vertical-align: middle;\n",
       "    }\n",
       "\n",
       "    .dataframe tbody tr th {\n",
       "        vertical-align: top;\n",
       "    }\n",
       "\n",
       "    .dataframe thead th {\n",
       "        text-align: right;\n",
       "    }\n",
       "</style>\n",
       "<table border=\"1\" class=\"dataframe\">\n",
       "  <thead>\n",
       "    <tr style=\"text-align: right;\">\n",
       "      <th></th>\n",
       "      <th>Article</th>\n",
       "      <th>Similarity Score</th>\n",
       "    </tr>\n",
       "  </thead>\n",
       "  <tbody>\n",
       "    <tr>\n",
       "      <th>0</th>\n",
       "      <td>eu ministers to mull jet fuel tax  european un...</td>\n",
       "      <td>0.158930</td>\n",
       "    </tr>\n",
       "    <tr>\n",
       "      <th>1</th>\n",
       "      <td>economy 'strong' in election year  uk business...</td>\n",
       "      <td>0.148369</td>\n",
       "    </tr>\n",
       "    <tr>\n",
       "      <th>2</th>\n",
       "      <td>eu aiming to fuel development aid  european un...</td>\n",
       "      <td>0.142033</td>\n",
       "    </tr>\n",
       "    <tr>\n",
       "      <th>3</th>\n",
       "      <td>india calls for fair trade rules  india, which...</td>\n",
       "      <td>0.131749</td>\n",
       "    </tr>\n",
       "    <tr>\n",
       "      <th>4</th>\n",
       "      <td>huge rush for jet airways shares  indian airli...</td>\n",
       "      <td>0.128655</td>\n",
       "    </tr>\n",
       "  </tbody>\n",
       "</table>\n",
       "</div>"
      ],
      "text/plain": [
       "                                             Article  Similarity Score\n",
       "0  eu ministers to mull jet fuel tax  european un...          0.158930\n",
       "1  economy 'strong' in election year  uk business...          0.148369\n",
       "2  eu aiming to fuel development aid  european un...          0.142033\n",
       "3  india calls for fair trade rules  india, which...          0.131749\n",
       "4  huge rush for jet airways shares  indian airli...          0.128655"
      ]
     },
     "execution_count": 65,
     "metadata": {},
     "output_type": "execute_result"
    }
   ],
   "source": [
    "# Get the most similar article and its similarity score\n",
    "tf_idf_df= search_similar_articles_tfidf(query, tfidf_matrix, unique_articles)\n",
    "tf_idf_df"
   ]
  },
  {
   "cell_type": "code",
   "execution_count": 66,
   "id": "4bf5a6e1-edf5-404a-bc52-56ffcf5bc6fe",
   "metadata": {},
   "outputs": [
    {
     "data": {
      "text/html": [
       "<div>\n",
       "<style scoped>\n",
       "    .dataframe tbody tr th:only-of-type {\n",
       "        vertical-align: middle;\n",
       "    }\n",
       "\n",
       "    .dataframe tbody tr th {\n",
       "        vertical-align: top;\n",
       "    }\n",
       "\n",
       "    .dataframe thead th {\n",
       "        text-align: right;\n",
       "    }\n",
       "</style>\n",
       "<table border=\"1\" class=\"dataframe\">\n",
       "  <thead>\n",
       "    <tr style=\"text-align: right;\">\n",
       "      <th></th>\n",
       "      <th>Article</th>\n",
       "      <th>Similarity Score</th>\n",
       "    </tr>\n",
       "  </thead>\n",
       "  <tbody>\n",
       "    <tr>\n",
       "      <th>0</th>\n",
       "      <td>profile: david blunkett  before he resigned th...</td>\n",
       "      <td>0.640777</td>\n",
       "    </tr>\n",
       "    <tr>\n",
       "      <th>1</th>\n",
       "      <td>eu ministers to mull jet fuel tax  european un...</td>\n",
       "      <td>0.634139</td>\n",
       "    </tr>\n",
       "    <tr>\n",
       "      <th>2</th>\n",
       "      <td>bank voted 8-1 for no rate change  the decisio...</td>\n",
       "      <td>0.633243</td>\n",
       "    </tr>\n",
       "    <tr>\n",
       "      <th>3</th>\n",
       "      <td>us trade gap ballooned in october  the us trad...</td>\n",
       "      <td>0.628107</td>\n",
       "    </tr>\n",
       "    <tr>\n",
       "      <th>4</th>\n",
       "      <td>gold falls on imf sale concerns  the price of ...</td>\n",
       "      <td>0.627473</td>\n",
       "    </tr>\n",
       "  </tbody>\n",
       "</table>\n",
       "</div>"
      ],
      "text/plain": [
       "                                             Article  Similarity Score\n",
       "0  profile: david blunkett  before he resigned th...          0.640777\n",
       "1  eu ministers to mull jet fuel tax  european un...          0.634139\n",
       "2  bank voted 8-1 for no rate change  the decisio...          0.633243\n",
       "3  us trade gap ballooned in october  the us trad...          0.628107\n",
       "4  gold falls on imf sale concerns  the price of ...          0.627473"
      ]
     },
     "execution_count": 66,
     "metadata": {},
     "output_type": "execute_result"
    }
   ],
   "source": [
    "# Get the most similar article and its similarity score\n",
    "bert_df = search_similar_articles_bert(query, article_embeddings, unique_articles)\n",
    "bert_df"
   ]
  },
  {
   "cell_type": "markdown",
   "id": "6428dda6-634d-4a19-8989-06ed5c980f1d",
   "metadata": {},
   "source": [
    "## \"Amit Yoran leaves the Department of# Example search query\n",
    "query = \"Amit Yoran leaves the Department of Homeland Security\" Homeland Security\""
   ]
  },
  {
   "cell_type": "code",
   "execution_count": 67,
   "id": "925954d1-0360-4acb-9932-a022deeccfc8",
   "metadata": {},
   "outputs": [],
   "source": [
    "# Example search query\n",
    "query = \"Amit Yoran leaves the Department of Homeland Security\""
   ]
  },
  {
   "cell_type": "code",
   "execution_count": 68,
   "id": "4c842c19-84ab-4e3f-b5d8-036ad5620224",
   "metadata": {},
   "outputs": [
    {
     "data": {
      "text/html": [
       "<div>\n",
       "<style scoped>\n",
       "    .dataframe tbody tr th:only-of-type {\n",
       "        vertical-align: middle;\n",
       "    }\n",
       "\n",
       "    .dataframe tbody tr th {\n",
       "        vertical-align: top;\n",
       "    }\n",
       "\n",
       "    .dataframe thead th {\n",
       "        text-align: right;\n",
       "    }\n",
       "</style>\n",
       "<table border=\"1\" class=\"dataframe\">\n",
       "  <thead>\n",
       "    <tr style=\"text-align: right;\">\n",
       "      <th></th>\n",
       "      <th>Article</th>\n",
       "      <th>Similarity Score</th>\n",
       "    </tr>\n",
       "  </thead>\n",
       "  <tbody>\n",
       "    <tr>\n",
       "      <th>0</th>\n",
       "      <td>rivals of the £400 apple...  the mac mini is t...</td>\n",
       "      <td>0.536972</td>\n",
       "    </tr>\n",
       "    <tr>\n",
       "      <th>1</th>\n",
       "      <td>microsoft seeking spyware trojan  microsoft is...</td>\n",
       "      <td>0.079572</td>\n",
       "    </tr>\n",
       "    <tr>\n",
       "      <th>2</th>\n",
       "      <td>bush to outline 'toughest' budget  president b...</td>\n",
       "      <td>0.079548</td>\n",
       "    </tr>\n",
       "    <tr>\n",
       "      <th>3</th>\n",
       "      <td>slovakia reach hopman cup final  slovakia will...</td>\n",
       "      <td>0.079026</td>\n",
       "    </tr>\n",
       "    <tr>\n",
       "      <th>4</th>\n",
       "      <td>go-ahead for new internet names  the internet ...</td>\n",
       "      <td>0.073931</td>\n",
       "    </tr>\n",
       "  </tbody>\n",
       "</table>\n",
       "</div>"
      ],
      "text/plain": [
       "                                             Article  Similarity Score\n",
       "0  rivals of the £400 apple...  the mac mini is t...          0.536972\n",
       "1  microsoft seeking spyware trojan  microsoft is...          0.079572\n",
       "2  bush to outline 'toughest' budget  president b...          0.079548\n",
       "3  slovakia reach hopman cup final  slovakia will...          0.079026\n",
       "4  go-ahead for new internet names  the internet ...          0.073931"
      ]
     },
     "execution_count": 68,
     "metadata": {},
     "output_type": "execute_result"
    }
   ],
   "source": [
    "# Get the most similar article and its similarity score\n",
    "tf_idf_df= search_similar_articles_tfidf(query, tfidf_matrix, unique_articles)\n",
    "tf_idf_df"
   ]
  },
  {
   "cell_type": "code",
   "execution_count": 69,
   "id": "0eb1606d-9d55-4581-822b-be88a59e540b",
   "metadata": {},
   "outputs": [
    {
     "data": {
      "text/html": [
       "<div>\n",
       "<style scoped>\n",
       "    .dataframe tbody tr th:only-of-type {\n",
       "        vertical-align: middle;\n",
       "    }\n",
       "\n",
       "    .dataframe tbody tr th {\n",
       "        vertical-align: top;\n",
       "    }\n",
       "\n",
       "    .dataframe thead th {\n",
       "        text-align: right;\n",
       "    }\n",
       "</style>\n",
       "<table border=\"1\" class=\"dataframe\">\n",
       "  <thead>\n",
       "    <tr style=\"text-align: right;\">\n",
       "      <th></th>\n",
       "      <th>Article</th>\n",
       "      <th>Similarity Score</th>\n",
       "    </tr>\n",
       "  </thead>\n",
       "  <tbody>\n",
       "    <tr>\n",
       "      <th>0</th>\n",
       "      <td>us bank 'loses' customer details  the bank of ...</td>\n",
       "      <td>0.644067</td>\n",
       "    </tr>\n",
       "    <tr>\n",
       "      <th>1</th>\n",
       "      <td>us trade gap ballooned in october  the us trad...</td>\n",
       "      <td>0.634573</td>\n",
       "    </tr>\n",
       "    <tr>\n",
       "      <th>2</th>\n",
       "      <td>confusion over high-definition tv  now that a ...</td>\n",
       "      <td>0.633893</td>\n",
       "    </tr>\n",
       "    <tr>\n",
       "      <th>3</th>\n",
       "      <td>nasdaq planning $100m share sale  the owner of...</td>\n",
       "      <td>0.633829</td>\n",
       "    </tr>\n",
       "    <tr>\n",
       "      <th>4</th>\n",
       "      <td>banker loses sexism claim  a former executive ...</td>\n",
       "      <td>0.633829</td>\n",
       "    </tr>\n",
       "  </tbody>\n",
       "</table>\n",
       "</div>"
      ],
      "text/plain": [
       "                                             Article  Similarity Score\n",
       "0  us bank 'loses' customer details  the bank of ...          0.644067\n",
       "1  us trade gap ballooned in october  the us trad...          0.634573\n",
       "2  confusion over high-definition tv  now that a ...          0.633893\n",
       "3  nasdaq planning $100m share sale  the owner of...          0.633829\n",
       "4  banker loses sexism claim  a former executive ...          0.633829"
      ]
     },
     "execution_count": 69,
     "metadata": {},
     "output_type": "execute_result"
    }
   ],
   "source": [
    "# Get the most similar article and its similarity score\n",
    "bert_df = search_similar_articles_bert(query, article_embeddings, unique_articles)\n",
    "bert_df"
   ]
  }
 ],
 "metadata": {
  "kernelspec": {
   "display_name": "cuda-gpt",
   "language": "python",
   "name": "cuda"
  },
  "language_info": {
   "codemirror_mode": {
    "name": "ipython",
    "version": 3
   },
   "file_extension": ".py",
   "mimetype": "text/x-python",
   "name": "python",
   "nbconvert_exporter": "python",
   "pygments_lexer": "ipython3",
   "version": "3.11.3"
  }
 },
 "nbformat": 4,
 "nbformat_minor": 5
}
