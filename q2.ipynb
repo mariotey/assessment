{
 "cells": [
  {
   "cell_type": "code",
   "execution_count": 1,
   "id": "71746a13",
   "metadata": {},
   "outputs": [],
   "source": [
    "import numpy as np\n",
    "from datetime import datetime, timedelta\n",
    "import random\n",
    "from time import time"
   ]
  },
  {
   "cell_type": "code",
   "execution_count": 2,
   "id": "e3236f79",
   "metadata": {},
   "outputs": [],
   "source": [
    "# Generate the list of dates\n",
    "st = datetime.strptime('01/01/2024', '%d/%m/%Y')\n",
    "n = 365 * 10\n",
    "list_of_dates = [st + timedelta(days=i) for i in range(n) if np.random.uniform() > 0.8]\n",
    "random.shuffle(list_of_dates)"
   ]
  },
  {
   "cell_type": "code",
   "execution_count": 3,
   "id": "c07c9805-84f4-4f49-892d-1686125c0d03",
   "metadata": {},
   "outputs": [],
   "source": [
    "def split_date_into_components(date):\n",
    "    date_str = str(date)\n",
    "    date_component = date_str.split(\" \")[0].split(\"-\")\n",
    "    \n",
    "    return int(date_component[0]), int(date_component[1]), int(date_component[2])\n",
    "\n",
    "def is_leap_year(year):\n",
    "    \"\"\"Check if a year is a leap year.\"\"\"\n",
    "    return (year % 4 == 0 and year % 100 != 0) or (year % 400 == 0)\n",
    "\n",
    "def date_to_ordinal(year, month, day):\n",
    "    \"\"\"Convert a given date to its ordinal value.\"\"\"\n",
    "    # Days in each month\n",
    "    days_in_month = [31, 28 + is_leap_year(year), 31, 30, 31, 30, \n",
    "                     31, 31, 30, 31, 30, 31]\n",
    "    \n",
    "    # Calculate the ordinal value\n",
    "    ordinal = 0\n",
    "    \n",
    "    # Add days for complete years\n",
    "    for y in range(1, year):\n",
    "        ordinal += 365 + is_leap_year(y)\n",
    "\n",
    "    # Add days for complete months of the current year\n",
    "    for m in range(1, month):\n",
    "        ordinal += days_in_month[m - 1]\n",
    "\n",
    "    # Add the days of the current month\n",
    "    ordinal += day\n",
    "\n",
    "    return ordinal"
   ]
  },
  {
   "cell_type": "code",
   "execution_count": 4,
   "id": "c551d05f",
   "metadata": {},
   "outputs": [],
   "source": [
    "def find_date_pairs_brute_force(dates):\n",
    "    pairs = []\n",
    "    \n",
    "    # Loop through each date\n",
    "    for i in range(len(dates)):\n",
    "        first_year, first_month, first_date = split_date_into_components(dates[i])\n",
    "        first_days_since_start = date_to_ordinal(first_year, first_month, first_date)\n",
    "        \n",
    "        for j in range(i + 1, len(dates)):\n",
    "            sec_year, sec_month, sec_date = split_date_into_components(dates[j])\n",
    "            sec_days_since_start = date_to_ordinal(sec_year, sec_month, sec_date)\n",
    "            \n",
    "            if abs(sec_days_since_start - first_days_since_start) == 7:\n",
    "                pairs.append((dates[i], dates[j]))\n",
    "    \n",
    "    return pairs"
   ]
  },
  {
   "cell_type": "code",
   "execution_count": null,
   "id": "09d90af7",
   "metadata": {},
   "outputs": [],
   "source": [
    "%%time\n",
    "\n",
    "start = time()\n",
    "pairs_brute_force = find_date_pairs_brute_force(list_of_dates)\n",
    "end = time()\n",
    "\n",
    "print(f\"Brute force solution runtime: {end - start:.6f} seconds\")\n",
    "print(f\"Number of pairs found: {len(pairs_brute_force)}\")"
   ]
  },
  {
   "cell_type": "code",
   "execution_count": null,
   "id": "bb193ca1",
   "metadata": {},
   "outputs": [],
   "source": [
    "def find_date_pairs_optimized(dates):\n",
    "    # Dictionary to store dates as keys\n",
    "    date_dict = {}\n",
    "    pairs = []\n",
    "    \n",
    "    for date in dates:\n",
    "        year, month, day = split_date_into_components(date)\n",
    "        \n",
    "        # Convert the date to its ordinal value\n",
    "        days_since_start = date_to_ordinal(year, month, day)\n",
    "   \n",
    "        # Check if there's a date exactly 7 days before\n",
    "        if days_since_start - 7 in date_dict:\n",
    "            pairs.append((date_dict[days_since_start - 7], date))\n",
    "            \n",
    "        # Check if there's a date exactly 7 days after\n",
    "        if days_since_start + 7 in date_dict:\n",
    "            pairs.append((date, date_dict[days_since_start + 7]))\n",
    "        \n",
    "        # Add this date to the dictionary\n",
    "        date_dict[days_since_start] = date\n",
    "    \n",
    "    return pairs"
   ]
  },
  {
   "cell_type": "code",
   "execution_count": null,
   "id": "16b026c8",
   "metadata": {},
   "outputs": [],
   "source": [
    "%%time\n",
    "\n",
    "start = time()\n",
    "pairs_optimized = find_date_pairs_optimized(list_of_dates)\n",
    "end = time()\n",
    "\n",
    "print(f\"Optimized solution runtime: {end - start:.6f} seconds\")\n",
    "print(f\"Number of pairs found: {len(pairs_optimized)}\")"
   ]
  },
  {
   "cell_type": "markdown",
   "id": "e25bb6bd",
   "metadata": {},
   "source": [
    "## Checking\n"
   ]
  },
  {
   "cell_type": "code",
   "execution_count": null,
   "id": "2fcf0e0a",
   "metadata": {},
   "outputs": [],
   "source": [
    "sorted_pairs_optimized = []\n",
    "\n",
    "for pairs in pairs_optimized:\n",
    "    sorted_pairs_optimized.append(tuple(sorted(pairs)))\n",
    "    \n",
    "sorted_pairs_optimized = sorted(sorted_pairs_optimized)"
   ]
  },
  {
   "cell_type": "code",
   "execution_count": null,
   "id": "01269e49",
   "metadata": {},
   "outputs": [],
   "source": [
    "sorted_pairs_brute_force = []\n",
    "\n",
    "for pairs in pairs_brute_force:\n",
    "    sorted_pairs_brute_force.append(tuple(sorted(pairs)))\n",
    "    \n",
    "sorted_pairs_brute_force = sorted(sorted_pairs_brute_force)"
   ]
  },
  {
   "cell_type": "code",
   "execution_count": null,
   "id": "e91dc903",
   "metadata": {},
   "outputs": [],
   "source": [
    "try:\n",
    "    # Checking if both methods yield the same results\n",
    "    assert set(sorted_pairs_optimized) == set(sorted_pairs_brute_force)\n",
    "    print(\"Both dataframes match\")\n",
    "    \n",
    "except:\n",
    "    missing_from_optimized = set(sorted_pairs_brute_force) - set(sorted_pairs_optimized)\n",
    "    missing_from_brute_force = set(sorted_pairs_optimized) - set(sorted_pairs_brute_force)\n",
    "\n",
    "    if missing_from_optimized:\n",
    "        print(\"Missing from optimized:\", len(missing_from_optimized))\n",
    "        \n",
    "    if missing_from_brute_force:\n",
    "        print(\"Missing from brute force:\", len(missing_from_brute_force))"
   ]
  }
 ],
 "metadata": {
  "kernelspec": {
   "display_name": "Python 3 (ipykernel)",
   "language": "python",
   "name": "python3"
  },
  "language_info": {
   "codemirror_mode": {
    "name": "ipython",
    "version": 3
   },
   "file_extension": ".py",
   "mimetype": "text/x-python",
   "name": "python",
   "nbconvert_exporter": "python",
   "pygments_lexer": "ipython3",
   "version": "3.11.3"
  }
 },
 "nbformat": 4,
 "nbformat_minor": 5
}
