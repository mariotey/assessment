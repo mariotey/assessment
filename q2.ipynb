{
 "cells": [
  {
   "cell_type": "code",
   "execution_count": 1,
   "id": "71746a13",
   "metadata": {},
   "outputs": [],
   "source": [
    "import numpy as np\n",
    "from datetime import datetime, timedelta\n",
    "import random\n",
    "from time import time"
   ]
  },
  {
   "cell_type": "code",
   "execution_count": 2,
   "id": "e3236f79",
   "metadata": {},
   "outputs": [],
   "source": [
    "# Generate the list of dates\n",
    "st = datetime.strptime('01/01/2024', '%d/%m/%Y')\n",
    "n = 365 * 10\n",
    "list_of_dates = [st + timedelta(days=i) for i in range(n) if np.random.uniform() > 0.8]\n",
    "random.shuffle(list_of_dates)"
   ]
  },
  {
   "cell_type": "code",
   "execution_count": 3,
   "id": "c551d05f",
   "metadata": {},
   "outputs": [],
   "source": [
    "def find_date_pairs_brute_force(dates):\n",
    "    \"\"\"Finds all pairs of dates in the list that are exactly 7 days apart using a brute force approach.\n",
    "\n",
    "    Args:\n",
    "    - dates (list): A list of datetime objects\n",
    "    \n",
    "    Returns:\n",
    "    - list: A list of tuples, where each tuple contains two dates that are 7 days apart\n",
    "    \"\"\"\n",
    "    pairs = []\n",
    "    \n",
    "    # Loop through each date\n",
    "    for i in range(len(dates)):\n",
    "        first_year, first_month, first_date = split_date_into_components(dates[i])\n",
    "        first_days_since_start = date_to_ordinal(first_year, first_month, first_date)\n",
    "        \n",
    "        for j in range(i + 1, len(dates)):\n",
    "            sec_year, sec_month, sec_date = split_date_into_components(dates[j])\n",
    "            sec_days_since_start = date_to_ordinal(sec_year, sec_month, sec_date)\n",
    "            \n",
    "            # Check if dates are exactly 7 days apart\n",
    "            if abs(sec_days_since_start - first_days_since_start) == 7:\n",
    "                pairs.append((dates[i], dates[j]))\n",
    "    \n",
    "    return pairs"
   ]
  },
  {
   "cell_type": "code",
   "execution_count": 4,
   "id": "c07c9805-84f4-4f49-892d-1686125c0d03",
   "metadata": {},
   "outputs": [],
   "source": [
    "def split_date_into_components(date):\n",
    "    \"\"\"Splits a given datetime object into its year, month, and day components.\n",
    "    \n",
    "    This function parses the datetime object into a string before splitting it into its components.\n",
    "    \n",
    "    Args:\n",
    "    - date (datetime): A datetime object\n",
    "    \n",
    "    Returns:\n",
    "    - tuple: Three integers representing year, month, and day\n",
    "    \n",
    "    Note:\n",
    "    - The datetime object is first converted into a string before being split into its individual \n",
    "      components. This approach is intentionally used to avoid performing any further operations \n",
    "      involving datetime objects later in the process.\n",
    "    \"\"\"\n",
    "    date_str = str(date)\n",
    "    date_component = date_str.split(\" \")[0].split(\"-\")\n",
    "    \n",
    "    return int(date_component[0]), int(date_component[1]), int(date_component[2])\n",
    "\n",
    "def is_leap_year(year):\n",
    "    \"\"\"Determines if the given year is a leap year.\n",
    "    \n",
    "    Args:\n",
    "    - year(int): The year to check\n",
    "    \n",
    "    Returns:\n",
    "    - bool: True if the year is a leap year, False otherwise\n",
    "    \"\"\"\n",
    "    return (year % 4 == 0 and year % 100 != 0) or (year % 400 == 0)\n",
    "\n",
    "def date_to_ordinal(year, month, day):\n",
    "    \"\"\"Converts a date into its ordinal value (number of days since year 1)\n",
    "\n",
    "    Args:\n",
    "    - year (int): The year component of the date.\n",
    "    - month (int): The month component of the date.\n",
    "    - day (int): The day component of the date.\n",
    "    \n",
    "    Returns:\n",
    "    - int: The ordinal value representing the number of days since year 1\n",
    "    \n",
    "    Note:\n",
    "    - Accounts for leap years and varying month lengths\n",
    "    \"\"\"   \n",
    "    # Days in each month\n",
    "    days_in_month = [31, 28 + is_leap_year(year), 31, 30, 31, 30, 31, 31, 30, 31, 30, 31]\n",
    "    \n",
    "    # Calculate the ordinal value\n",
    "    ordinal = 0\n",
    "    \n",
    "    # Add days for complete years\n",
    "    for y in range(1, year):\n",
    "        ordinal += 365 + is_leap_year(y)\n",
    "\n",
    "    # Add days for complete months of the current year\n",
    "    for m in range(1, month):\n",
    "        ordinal += days_in_month[m - 1]\n",
    "\n",
    "    # Add the days of the current month\n",
    "    ordinal += day\n",
    "\n",
    "    return ordinal\n",
    "\n",
    "def find_date_pairs_optimized(dates):\n",
    "    \"\"\"Finds all pairs of dates in the list that are exactly 7 days apart using an optimized approach.\n",
    "\n",
    "    This method uses a dictionary to store the ordinal values of dates, allowing for faster lookup of\n",
    "    date pairs.\n",
    "\n",
    "    Args:\n",
    "    - dates (list): A list of datetime objects.\n",
    "    \n",
    "    Returns:\n",
    "    - list: A list of tuples, where each tuple contains two dates that are 7 days apart.\n",
    "    \"\"\"\n",
    "    \n",
    "    # Dictionary to store dates as keys\n",
    "    date_dict, pairs = {}, []\n",
    "    \n",
    "    for date in dates:\n",
    "        year, month, day = split_date_into_components(date)\n",
    "        \n",
    "        # Convert the date to its ordinal value\n",
    "        days_since_start = date_to_ordinal(year, month, day)\n",
    "   \n",
    "        # Check if there's a date exactly 7 days before\n",
    "        if days_since_start - 7 in date_dict:\n",
    "            pairs.append((date_dict[days_since_start - 7], date))\n",
    "            \n",
    "        # Check if there's a date exactly 7 days after\n",
    "        if days_since_start + 7 in date_dict:\n",
    "            pairs.append((date, date_dict[days_since_start + 7]))\n",
    "        \n",
    "        # Add this date to the dictionary\n",
    "        date_dict[days_since_start] = date\n",
    "    \n",
    "    return pairs"
   ]
  },
  {
   "cell_type": "code",
   "execution_count": 5,
   "id": "09d90af7",
   "metadata": {},
   "outputs": [
    {
     "name": "stdout",
     "output_type": "stream",
     "text": [
      "Brute force solution runtime: 95.160221 seconds\n",
      "Number of pairs found: 150\n",
      "CPU times: total: 1min 34s\n",
      "Wall time: 1min 35s\n"
     ]
    }
   ],
   "source": [
    "%%time\n",
    "\n",
    "# Measure the runtime of the brute force solution\n",
    "start = time()\n",
    "pairs_brute_force = find_date_pairs_brute_force(list_of_dates)\n",
    "end = time()\n",
    "\n",
    "print(f\"Brute force solution runtime: {end - start:.6f} seconds\")\n",
    "print(f\"Number of pairs found: {len(pairs_brute_force)}\")"
   ]
  },
  {
   "cell_type": "code",
   "execution_count": 6,
   "id": "16b026c8",
   "metadata": {},
   "outputs": [
    {
     "name": "stdout",
     "output_type": "stream",
     "text": [
      "Optimized solution runtime: 0.258991 seconds\n",
      "Number of pairs found: 150\n",
      "CPU times: total: 188 ms\n",
      "Wall time: 259 ms\n"
     ]
    }
   ],
   "source": [
    "%%time\n",
    "\n",
    "# Measure the runtime of the optimized solution\n",
    "start = time()\n",
    "pairs_optimized = find_date_pairs_optimized(list_of_dates)\n",
    "end = time()\n",
    "\n",
    "print(f\"Optimized solution runtime: {end - start:.6f} seconds\")\n",
    "print(f\"Number of pairs found: {len(pairs_optimized)}\")"
   ]
  },
  {
   "cell_type": "markdown",
   "id": "e25bb6bd",
   "metadata": {},
   "source": [
    "## Validation of Pair Matching Between Optimized and Brute Force Methods\n"
   ]
  },
  {
   "cell_type": "code",
   "execution_count": 7,
   "id": "2fcf0e0a",
   "metadata": {},
   "outputs": [],
   "source": [
    "sorted_pairs_brute_force = []\n",
    "\n",
    "# Sort the individual date pairs from the brute force method and store them in a list\n",
    "for pairs in pairs_brute_force:\n",
    "    sorted_pairs_brute_force.append(tuple(sorted(pairs)))\n",
    "\n",
    "# Sort the entire list of pairs from the brute force method\n",
    "sorted_pairs_brute_force = sorted(sorted_pairs_brute_force)"
   ]
  },
  {
   "cell_type": "code",
   "execution_count": 8,
   "id": "b3bd11ec-bc8b-47d8-b0ca-bef5a484ba6e",
   "metadata": {},
   "outputs": [],
   "source": [
    "sorted_pairs_optimized = []\n",
    "\n",
    "# Sort the individual date pairs from the optimized method and store them in a list\n",
    "for pairs in pairs_optimized:\n",
    "    sorted_pairs_optimized.append(tuple(sorted(pairs)))\n",
    "\n",
    "# Sort the entire list of pairs from the optimized method\n",
    "sorted_pairs_optimized = sorted(sorted_pairs_optimized)"
   ]
  },
  {
   "cell_type": "code",
   "execution_count": 9,
   "id": "e91dc903",
   "metadata": {},
   "outputs": [
    {
     "name": "stdout",
     "output_type": "stream",
     "text": [
      "Both dataframes match\n"
     ]
    }
   ],
   "source": [
    "# Validate that both methods (optimized and brute force) yield the same results\n",
    "try:\n",
    "    # Compare sets of sorted pairs from both methods; if they match, the methods are equivalent.\n",
    "    assert set(sorted_pairs_optimized) == set(sorted_pairs_brute_force)\n",
    "    print(\"Both dataframes match\")\n",
    "    \n",
    "# Handle exceptions if the results differ between the methods\n",
    "except AssertionError:\n",
    "    # Find pairs present in optimized results but missing from brute force results.\n",
    "    missing_from_brute_force = set(sorted_pairs_optimized) - set(sorted_pairs_brute_force)\n",
    "    \n",
    "    # Print how many pairs are missing from brute force method, if any\n",
    "    if missing_from_brute_force:\n",
    "        print(\"Missing from brute force:\", len(missing_from_brute_force))\n",
    "        \n",
    "    # Find pairs present in brute force results but missing from optimized results.\n",
    "    missing_from_optimized = set(sorted_pairs_brute_force) - set(sorted_pairs_optimized)\n",
    "    \n",
    "    # Print how many pairs are missing from optimized method, if any\n",
    "    if missing_from_optimized:\n",
    "        print(\"Missing from optimized:\", len(missing_from_optimized))"
   ]
  }
 ],
 "metadata": {
  "kernelspec": {
   "display_name": "Python 3 (ipykernel)",
   "language": "python",
   "name": "python3"
  },
  "language_info": {
   "codemirror_mode": {
    "name": "ipython",
    "version": 3
   },
   "file_extension": ".py",
   "mimetype": "text/x-python",
   "name": "python",
   "nbconvert_exporter": "python",
   "pygments_lexer": "ipython3",
   "version": "3.11.3"
  }
 },
 "nbformat": 4,
 "nbformat_minor": 5
}
